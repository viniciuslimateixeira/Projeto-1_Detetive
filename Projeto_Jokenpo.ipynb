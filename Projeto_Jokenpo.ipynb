{
  "nbformat": 4,
  "nbformat_minor": 0,
  "metadata": {
    "colab": {
      "name": "Projeto_Jokenpo.ipynb",
      "provenance": [],
      "authorship_tag": "ABX9TyPLnj/OA56+DP1VKcAZW58R",
      "include_colab_link": true
    },
    "kernelspec": {
      "name": "python3",
      "display_name": "Python 3"
    },
    "language_info": {
      "name": "python"
    }
  },
  "cells": [
    {
      "cell_type": "markdown",
      "metadata": {
        "id": "view-in-github",
        "colab_type": "text"
      },
      "source": [
        "<a href=\"https://colab.research.google.com/github/viniciuslimateixeira/Projetos_BLUE/blob/main/Projeto_Jokenpo.ipynb\" target=\"_parent\"><img src=\"https://colab.research.google.com/assets/colab-badge.svg\" alt=\"Open In Colab\"/></a>"
      ]
    },
    {
      "cell_type": "code",
      "metadata": {
        "id": "sC43YEW72C0X",
        "colab": {
          "base_uri": "https://localhost:8080/"
        },
        "outputId": "6113d070-4780-4c4f-b937-f3c375bfa7d0"
      },
      "source": [
        "from random import randint\n",
        "\n",
        "itens = ['Pedra','Papel','Tesoura']\n",
        "pc = randint(0,2)\n",
        "vitorias_jogador = vitorias_computador = empate = 0\n",
        "\n",
        "while True:\n",
        "  print('Quantas rodadas terá o nosso jogo? ')\n",
        "  rodadas = int(input('Digite o número de rodadas: '))\n",
        "  for c in range(0,rodadas):\n",
        "    jogador = int(input('''\n",
        "    [0]Pedra\n",
        "    [1]Papel\n",
        "    [2]Tesoura\n",
        "    Escolha ->'''))\n",
        "    print(f'Você escolheu {itens[jogador]} e o Computador escolheu {itens[pc]}')\n",
        "    #Condiçoes para o jogador ganhar do pc\n",
        "    if pc == 0 and jogador == 1:\n",
        "        print('VOCÊ VENCEU O COMPUTADOR!')\n",
        "        resultado = 'VOCÊ VENCEU'\n",
        "    elif pc == 1 and jogador == 2:\n",
        "        print('VOCÊ VENCEU O COMPUTADOR!')\n",
        "        resultado = 'VOCÊ VENCEU'\n",
        "    elif pc == 2 and jogador == 0:\n",
        "        print('VOCÊ VENCEU O COMPUTADOR!')\n",
        "        resultado = 'VOCÊ VENCEU'\n",
        "    #Condiçoes para o jogador perder para o PC\n",
        "    elif jogador == 0 and pc == 1:\n",
        "        print('O COMPUTADOR VENCEU VOCÊ!')\n",
        "        resultado = 'O COMPUTADOR VENCEU'\n",
        "    elif jogador == 1 and pc == 2:\n",
        "        print('O COMPUTADOR VENCEU VOCÊ!')\n",
        "        resultado = 'O COMPUTADOR VENCEU'\n",
        "    elif jogador == 2 and pc == 0:\n",
        "        print('O COMPUTADOR VENCEU VOCÊ!')\n",
        "        resultado = 'O COMPUTADOR VENCEU'\n",
        "    #Condiçoes de empate\n",
        "    elif pc == jogador == 0:\n",
        "        print('VOCÊ E O COMPUTADOR EMPATARAM!')\n",
        "        resultado = 'EMPATE'\n",
        "    elif pc == jogador == 1:\n",
        "        print('VOCÊ E O COMPUTADOR EMPATARAM!')\n",
        "        resultado = 'EMPATE'\n",
        "    elif pc == jogador == 2:\n",
        "        print('VOCÊ E O COMPUTADOR EMPATARAM!')\n",
        "        resultado = 'EMPATE'\n",
        "  #Quantidade de rodadas ganha por cada jogador\n",
        "    if resultado == 'VOCÊ VENCEU':\n",
        "      vitorias_jogador += 1\n",
        "    elif resultado == 'O COMPUTADOR VENCEU':\n",
        "      vitorias_computador += 1\n",
        "    elif resultado == 'EMPATE':\n",
        "      empate += 1\n",
        "  print(f'Você ganhou {vitorias_jogador} rodadas.')\n",
        "  print(f'O computador ganhou {vitorias_computador} rodadas.')\n",
        "  print(f'Houveram {empate} empates.')\n",
        "  #Define quem é o campeão\n",
        "  if vitorias_jogador > vitorias_computador:\n",
        "    print('VOCÊ É O CAMPEÃO!')\n",
        "  elif vitorias_jogador < vitorias_computador:\n",
        "    print('O COMPUTADOR É O CAMPEÃO!')\n",
        "  else:\n",
        "    print('VOCÊS EMPATARAM!')\n",
        "  continuar = str(input('Você quer jogar novamente? [S/N]: ')).upper().strip()[0]\n",
        "  if continuar == \"N\":\n",
        "    break\n",
        "print('FIM DE JOGO!')\n"
      ],
      "execution_count": 8,
      "outputs": [
        {
          "output_type": "stream",
          "text": [
            "Quantas rodadas terá o nosso jogo? \n",
            "Digite o número de rodadas: 2\n",
            "\n",
            "    [0]Pedra\n",
            "    [1]Papel\n",
            "    [2]Tesoura\n",
            "    Escolha ->2\n",
            "Você escolheu Tesoura e o Computador escolheu Papel\n",
            "VOCÊ VENCEU O COMPUTADOR!\n",
            "\n",
            "    [0]Pedra\n",
            "    [1]Papel\n",
            "    [2]Tesoura\n",
            "    Escolha ->2\n",
            "Você escolheu Tesoura e o Computador escolheu Papel\n",
            "VOCÊ VENCEU O COMPUTADOR!\n",
            "Você ganhou 2 rodadas.\n",
            "O computador ganhou 0 rodadas.\n",
            "Houveram 0 empates.\n",
            "VOCÊ É O CAMPEÃO!\n",
            "Você quer jogar novamente? [S/N]: n\n",
            "FIM DE JOGO!\n"
          ],
          "name": "stdout"
        }
      ]
    }
  ]
}