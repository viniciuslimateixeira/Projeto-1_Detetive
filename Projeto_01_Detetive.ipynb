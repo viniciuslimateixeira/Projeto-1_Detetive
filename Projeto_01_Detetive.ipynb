{
  "nbformat": 4,
  "nbformat_minor": 0,
  "metadata": {
    "colab": {
      "name": "Projeto_01_Detetive.ipynb",
      "provenance": [],
      "collapsed_sections": [],
      "authorship_tag": "ABX9TyNOuMuGVlOO1rLPKzE7So+v",
      "include_colab_link": true
    },
    "kernelspec": {
      "display_name": "Python 3",
      "name": "python3"
    },
    "language_info": {
      "name": "python"
    }
  },
  "cells": [
    {
      "cell_type": "markdown",
      "metadata": {
        "id": "view-in-github",
        "colab_type": "text"
      },
      "source": [
        "<a href=\"https://colab.research.google.com/github/viniciuslimateixeira/Projeto-1_Detetive/blob/main/Projeto_01_Detetive.ipynb\" target=\"_parent\"><img src=\"https://colab.research.google.com/assets/colab-badge.svg\" alt=\"Open In Colab\"/></a>"
      ]
    },
    {
      "cell_type": "markdown",
      "metadata": {
        "id": "tshrempSLgMP"
      },
      "source": [
        "Projeto 01 – Detetive\n",
        "\n",
        "Esse projeto tem a finalidade de fixar os conhecimentos de Variáveis, Print, Input e Condicionais, para isso crie um programa que faça 5 perguntas para uma pessoa sobre um crime. As perguntas são:\n",
        "\n",
        "• \"Você telefonou para a vítima?\"\n",
        "\n",
        "• \" Você esteve no local do crime?\"\n",
        "\n",
        "• \" Você mora perto da vítima?\"\n",
        "\n",
        "• \" Você devia para a vítima?\"\n",
        "\n",
        "• \" Você já trabalhou com a vítima?\"\n",
        "\n",
        "\n",
        "O programa deve, no final, emitir uma classificação sobre a participação da pessoa no crime.\n",
        "\n",
        "Se a pessoa responder positivamente a:\n",
        "\n",
        "• 2 questões ela deve ser classificada como \"Suspeita\",\n",
        "\n",
        "• Entre 3 e 4 como \"Cúmplice\"\n",
        "\n",
        "• 5 como \"Assassino\".\n",
        "\n",
        "• Caso contrário, ele será classificado como \"Inocente\".\n",
        "\n",
        "\n",
        "\n",
        "\n"
      ]
    },
    {
      "cell_type": "code",
      "metadata": {
        "colab": {
          "base_uri": "https://localhost:8080/",
          "height": 476
        },
        "id": "6yDEKD3wL11C",
        "outputId": "1065f24c-9a27-4932-8e99-056c9bd0fb89"
      },
      "source": [
        "# !pip install rich\n",
        "\n",
        "from rich.console import Console\n",
        "\n",
        "console = Console()\n",
        "\n",
        "\n",
        "console.print('''\n",
        "[bold red]\n",
        "------- » « 𝑺𝑶𝑭𝑻𝑾𝑨𝑹𝑬 𝑫𝑬 𝑰𝑵𝑽𝑬𝑺𝑻𝑰𝑮𝑨𝑪̧𝑨̃𝑶 𝑪𝑹𝑰𝑴𝑰𝑵𝑨𝑳 (𝑺𝑰𝑪) » « -------\n",
        "\n",
        "𝐼𝑛𝑡𝑟𝑜𝑑𝑢𝑐̧𝑎̃𝑜: 𝑂 𝑠𝑜𝑓𝑡𝑤𝑎𝑟𝑒 𝑑𝑒 𝑖𝑛𝑣𝑒𝑠𝑡𝑖𝑔𝑎𝑐̧𝑎̃𝑜 𝑐𝑟𝑖𝑚𝑖𝑛𝑎𝑙 (𝑆𝐼𝐶), 𝑓𝑜𝑖 𝑐𝑟𝑖𝑎𝑑𝑜 \n",
        "𝑐𝑜𝑚 𝑖𝑛𝑡𝑢𝑖𝑡𝑜 𝑑𝑒 𝑎𝑢𝑥𝑖𝑙𝑖𝑎𝑟 𝑖𝑛𝑣𝑒𝑠𝑡𝑖𝑔𝑎𝑑𝑜𝑟𝑒𝑠 𝑑𝑒 𝑝𝑜𝑙𝑖́𝑐𝑖𝑎 𝑎 𝑜𝑡𝑖𝑚𝑖𝑧𝑎𝑟 𝑜 𝑝𝑟𝑜𝑐𝑒𝑠𝑠𝑜 \n",
        "𝑖𝑛𝑡𝑒𝑟𝑟𝑜𝑔𝑎𝑡𝑜́𝑟𝑖𝑜 𝑑𝑒 𝑠𝑢𝑠𝑝𝑒𝑖𝑡𝑜𝑠. 𝐷𝑒𝑠𝑠𝑎 𝑓𝑜𝑟𝑚𝑎 𝑒́ 𝑝𝑜𝑠𝑠𝑖́𝑣𝑒𝑙 𝑎𝑟𝑔𝑢𝑖𝑟 𝑢𝑚 𝑛𝑢́𝑚𝑒𝑟𝑜 \n",
        "𝑚𝑎𝑖𝑜𝑟 𝑑𝑒 𝑝𝑒𝑠𝑠𝑜𝑎𝑠 𝑛𝑎 f𝑎𝑠𝑒 𝑖𝑛𝑖𝑐𝑖𝑎𝑙, 𝑑𝑒 𝑚𝑜𝑑𝑜 𝑎 𝑑𝑖𝑟𝑒𝑐𝑖𝑜𝑛𝑎𝑟 𝑎 𝑖𝑛𝑣𝑒𝑠𝑡𝑖𝑔𝑎𝑐̧𝑎̃𝑜\n",
        "𝑎 𝑜𝑠 𝑠𝑢𝑠𝑝𝑒𝑖𝑡𝑜𝑠 𝑚𝑎𝑖𝑠 𝑟𝑒𝑙𝑒𝑣𝑎𝑛𝑡𝑒𝑠.\n",
        "\n",
        "-------------- » « -------------- » « -------------- » « ------------\n",
        "[/bold red]''')\n",
        "\n",
        "nome = str(input('Nome: ')).title().strip()\n",
        "\n",
        "rua = str(input('Rua: ')).title().strip()\n",
        "\n",
        "numero = int(input('N° da casa: '))\n",
        "\n",
        "cidade = str(input('Cidade: ')).title().strip()\n",
        "\n",
        "print('Você telefonou para a vítima?')\n",
        "a = str(input('Sim ou Não: ')).upper().strip()\n",
        "\n",
        "print('Você esteve no local do crime?')\n",
        "b = str(input('Sim ou Não: ')).upper().strip()\n",
        "\n",
        "print('Você mora perto da vítima?')\n",
        "c = str(input('Sim ou Não: ')).upper().strip()\n",
        "\n",
        "print('Você devia para a vítima?')\n",
        "d = str(input('Sim ou Não: ')).upper().strip()\n",
        "\n",
        "print('Você já trabalhou com a vítima?')\n",
        "e = str(input('Sim ou Não: ')).upper().strip()\n",
        "\n",
        "f = (a + b + c + d + e)\n",
        "\n",
        "g = f.count(\"S\")\n",
        "\n",
        "\n",
        "if g == 2:\n",
        "  console.print(f'[bold cyan]Sr.(a) {nome}, residente na rua {rua}, n° {numero}, na cidade de {cidade}, é considerado(a) SUSPEITO(a).')\n",
        "elif 3 <= g <= 4:\n",
        "  console.print(f'[bold cyan]Sr.(a) {nome}, residente na rua {rua}, n° {numero}, na cidade de {cidade}, é considerado(a) CÚMPLICE.')\n",
        "elif g == 5:\n",
        "  console.print(f'[bold cyan]Sr.(a) {nome}, residente na rua {rua}, n° {numero}, na cidade de {cidade}, é considerado(a) ASSASSINO(a).')\n",
        "else:\n",
        "  console.print(f'[bold cyan]Sr.(a) {nome}, residente na rua {rua}, n° {numero}, na cidade de {cidade}, é considerado(a) INOCENTE.')"
      ],
      "execution_count": 24,
      "outputs": [
        {
          "output_type": "display_data",
          "data": {
            "text/html": [
              "<pre style=\"white-space:pre;overflow-x:auto;line-height:normal;font-family:Menlo,'DejaVu Sans Mono',consolas,'Courier New',monospace\">\n",
              "\n",
              "<span style=\"color: #800000; text-decoration-color: #800000; font-weight: bold\">------- » « 𝑺𝑶𝑭𝑻𝑾𝑨𝑹𝑬 𝑫𝑬 𝑰𝑵𝑽𝑬𝑺𝑻𝑰𝑮𝑨𝑪̧𝑨̃𝑶 𝑪𝑹𝑰𝑴𝑰𝑵𝑨𝑳 (𝑺𝑰𝑪) » « -------</span>\n",
              "\n",
              "<span style=\"color: #800000; text-decoration-color: #800000; font-weight: bold\">𝐼𝑛𝑡𝑟𝑜𝑑𝑢𝑐̧𝑎̃𝑜: 𝑂 𝑠𝑜𝑓𝑡𝑤𝑎𝑟𝑒 𝑑𝑒 𝑖𝑛𝑣𝑒𝑠𝑡𝑖𝑔𝑎𝑐̧𝑎̃𝑜 𝑐𝑟𝑖𝑚𝑖𝑛𝑎𝑙 (𝑆𝐼𝐶), 𝑓𝑜𝑖 𝑐𝑟𝑖𝑎𝑑𝑜 </span>\n",
              "<span style=\"color: #800000; text-decoration-color: #800000; font-weight: bold\">𝑐𝑜𝑚 𝑖𝑛𝑡𝑢𝑖𝑡𝑜 𝑑𝑒 𝑎𝑢𝑥𝑖𝑙𝑖𝑎𝑟 𝑖𝑛𝑣𝑒𝑠𝑡𝑖𝑔𝑎𝑑𝑜𝑟𝑒𝑠 𝑑𝑒 𝑝𝑜𝑙𝑖́𝑐𝑖𝑎 𝑎 𝑜𝑡𝑖𝑚𝑖𝑧𝑎𝑟 𝑜 𝑝𝑟𝑜𝑐𝑒𝑠𝑠𝑜 </span>\n",
              "<span style=\"color: #800000; text-decoration-color: #800000; font-weight: bold\">𝑖𝑛𝑡𝑒𝑟𝑟𝑜𝑔𝑎𝑡𝑜́𝑟𝑖𝑜 𝑑𝑒 𝑠𝑢𝑠𝑝𝑒𝑖𝑡𝑜𝑠. 𝐷𝑒𝑠𝑠𝑎 𝑓𝑜𝑟𝑚𝑎 𝑒́ 𝑝𝑜𝑠𝑠𝑖́𝑣𝑒𝑙 𝑎𝑟𝑔𝑢𝑖𝑟 𝑢𝑚 𝑛𝑢́𝑚𝑒𝑟𝑜 </span>\n",
              "<span style=\"color: #800000; text-decoration-color: #800000; font-weight: bold\">𝑚𝑎𝑖𝑜𝑟 𝑑𝑒 𝑝𝑒𝑠𝑠𝑜𝑎𝑠 𝑛𝑎 f𝑎𝑠𝑒 𝑖𝑛𝑖𝑐𝑖𝑎𝑙, 𝑑𝑒 𝑚𝑜𝑑𝑜 𝑎 𝑑𝑖𝑟𝑒𝑐𝑖𝑜𝑛𝑎𝑟 𝑎 𝑖𝑛𝑣𝑒𝑠𝑡𝑖𝑔𝑎𝑐̧𝑎̃𝑜</span>\n",
              "<span style=\"color: #800000; text-decoration-color: #800000; font-weight: bold\">𝑎 𝑜𝑠 𝑠𝑢𝑠𝑝𝑒𝑖𝑡𝑜𝑠 𝑚𝑎𝑖𝑠 𝑟𝑒𝑙𝑒𝑣𝑎𝑛𝑡𝑒𝑠.</span>\n",
              "\n",
              "<span style=\"color: #800000; text-decoration-color: #800000; font-weight: bold\">-------------- » « -------------- » « -------------- » « ------------</span>\n",
              "\n",
              "</pre>\n"
            ],
            "text/plain": [
              "\n",
              "\n",
              "\u001b[1;31m------- » « 𝑺𝑶𝑭𝑻𝑾𝑨𝑹𝑬 𝑫𝑬 𝑰𝑵𝑽𝑬𝑺𝑻𝑰𝑮𝑨𝑪̧𝑨̃𝑶 𝑪𝑹𝑰𝑴𝑰𝑵𝑨𝑳 \u001b[0m\u001b[1;31m(\u001b[0m\u001b[1;31m𝑺𝑰𝑪\u001b[0m\u001b[1;31m)\u001b[0m\u001b[1;31m » « -------\u001b[0m\n",
              "\n",
              "\u001b[1;31m𝐼𝑛𝑡𝑟𝑜𝑑𝑢𝑐̧𝑎̃𝑜: 𝑂 𝑠𝑜𝑓𝑡𝑤𝑎𝑟𝑒 𝑑𝑒 𝑖𝑛𝑣𝑒𝑠𝑡𝑖𝑔𝑎𝑐̧𝑎̃𝑜 𝑐𝑟𝑖𝑚𝑖𝑛𝑎𝑙 \u001b[0m\u001b[1;31m(\u001b[0m\u001b[1;31m𝑆𝐼𝐶\u001b[0m\u001b[1;31m)\u001b[0m\u001b[1;31m, 𝑓𝑜𝑖 𝑐𝑟𝑖𝑎𝑑𝑜 \u001b[0m\n",
              "\u001b[1;31m𝑐𝑜𝑚 𝑖𝑛𝑡𝑢𝑖𝑡𝑜 𝑑𝑒 𝑎𝑢𝑥𝑖𝑙𝑖𝑎𝑟 𝑖𝑛𝑣𝑒𝑠𝑡𝑖𝑔𝑎𝑑𝑜𝑟𝑒𝑠 𝑑𝑒 𝑝𝑜𝑙𝑖́𝑐𝑖𝑎 𝑎 𝑜𝑡𝑖𝑚𝑖𝑧𝑎𝑟 𝑜 𝑝𝑟𝑜𝑐𝑒𝑠𝑠𝑜 \u001b[0m\n",
              "\u001b[1;31m𝑖𝑛𝑡𝑒𝑟𝑟𝑜𝑔𝑎𝑡𝑜́𝑟𝑖𝑜 𝑑𝑒 𝑠𝑢𝑠𝑝𝑒𝑖𝑡𝑜𝑠. 𝐷𝑒𝑠𝑠𝑎 𝑓𝑜𝑟𝑚𝑎 𝑒́ 𝑝𝑜𝑠𝑠𝑖́𝑣𝑒𝑙 𝑎𝑟𝑔𝑢𝑖𝑟 𝑢𝑚 𝑛𝑢́𝑚𝑒𝑟𝑜 \u001b[0m\n",
              "\u001b[1;31m𝑚𝑎𝑖𝑜𝑟 𝑑𝑒 𝑝𝑒𝑠𝑠𝑜𝑎𝑠 𝑛𝑎 f𝑎𝑠𝑒 𝑖𝑛𝑖𝑐𝑖𝑎𝑙, 𝑑𝑒 𝑚𝑜𝑑𝑜 𝑎 𝑑𝑖𝑟𝑒𝑐𝑖𝑜𝑛𝑎𝑟 𝑎 𝑖𝑛𝑣𝑒𝑠𝑡𝑖𝑔𝑎𝑐̧𝑎̃𝑜\u001b[0m\n",
              "\u001b[1;31m𝑎 𝑜𝑠 𝑠𝑢𝑠𝑝𝑒𝑖𝑡𝑜𝑠 𝑚𝑎𝑖𝑠 𝑟𝑒𝑙𝑒𝑣𝑎𝑛𝑡𝑒𝑠.\u001b[0m\n",
              "\n",
              "\u001b[1;31m-------------- » « -------------- » « -------------- » « ------------\u001b[0m\n",
              "\n"
            ]
          },
          "metadata": {
            "tags": []
          }
        },
        {
          "output_type": "stream",
          "text": [
            "Nome: Vinícius\n",
            "Rua: Santana\n",
            "N° da casa: 56\n",
            "Cidade: Santos\n",
            "Você telefonou para a vítima?\n",
            "Sim ou Não: sim\n",
            "Você esteve no local do crime?\n",
            "Sim ou Não: não\n",
            "Você mora perto da vítima?\n",
            "Sim ou Não: não\n",
            "Você devia para a vítima?\n",
            "Sim ou Não: não\n",
            "Você já trabalhou com a vítima?\n",
            "Sim ou Não: não\n"
          ],
          "name": "stdout"
        },
        {
          "output_type": "display_data",
          "data": {
            "text/html": [
              "<pre style=\"white-space:pre;overflow-x:auto;line-height:normal;font-family:Menlo,'DejaVu Sans Mono',consolas,'Courier New',monospace\"><span style=\"color: #008080; text-decoration-color: #008080; font-weight: bold\">Sr.(a) Vinícius, residente na rua Santana, n° </span><span style=\"color: #008080; text-decoration-color: #008080; font-weight: bold\">56</span><span style=\"color: #008080; text-decoration-color: #008080; font-weight: bold\">, na cidade de Santos, é considerado(a) </span>\n",
              "<span style=\"color: #008080; text-decoration-color: #008080; font-weight: bold\">INOCENTE.</span>\n",
              "</pre>\n"
            ],
            "text/plain": [
              "\u001b[1;36mSr.\u001b[0m\u001b[1;36m(\u001b[0m\u001b[1;36ma\u001b[0m\u001b[1;36m)\u001b[0m\u001b[1;36m Vinícius, residente na rua Santana, n° \u001b[0m\u001b[1;36m56\u001b[0m\u001b[1;36m, na cidade de Santos, é \u001b[0m\u001b[1;36mconsiderado\u001b[0m\u001b[1;36m(\u001b[0m\u001b[1;36ma\u001b[0m\u001b[1;36m)\u001b[0m\u001b[1;36m \u001b[0m\n",
              "\u001b[1;36mINOCENTE.\u001b[0m\n"
            ]
          },
          "metadata": {
            "tags": []
          }
        }
      ]
    },
    {
      "cell_type": "code",
      "metadata": {
        "id": "tPdxQXjsYYcN"
      },
      "source": [
        ""
      ],
      "execution_count": null,
      "outputs": []
    }
  ]
}